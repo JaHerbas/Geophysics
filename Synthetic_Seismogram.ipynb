{
 "cells": [
  {
   "cell_type": "markdown",
   "metadata": {},
   "source": [
    "# Introduction\n",
    "\n",
    "For those that are not familiar with what a synthetic seismogram is I'll add a few lines to try to explain and illustrate what they are and why they are so important for exploration and development of hydrocarbons. Additionally, I will list below a series of references where you can go more in depth if interested. \n",
    "\n",
    "So first a synthetic seismogram is one of many forms of forward modeling to predict the seismic response of the earth. The way how we do them is by convolving a reflectivity series derived from a digitized acoustic and density well logs with a wavelet that is generated/extracted from the seismic data. \n",
    "\n",
    "Generating synthetic seismograms is how geophysicists normally do a seismic-to-well tie, which is a fundamental step in seismic interpretation. What we are looking for by doing this is try to relate subsurface measurements obtained at a wellbore measured in depth and seismic data measured in time. So, basically, synthetic seismograms provide a means of identifying reflections and determining which event relates to a particular interface or sequence. \n",
    "\n",
    "Hopefully this information is enough to start with, but if not don't worry as I will keep on adding explanations as we progress"
   ]
  },
  {
   "cell_type": "markdown",
   "metadata": {},
   "source": [
    "# Libraries"
   ]
  },
  {
   "cell_type": "code",
   "execution_count": 1,
   "metadata": {
    "ExecuteTime": {
     "end_time": "2021-03-02T21:05:03.609141Z",
     "start_time": "2021-03-02T21:05:03.606391Z"
    }
   },
   "outputs": [],
   "source": [
    "#!python -m pip install -U pip"
   ]
  },
  {
   "cell_type": "code",
   "execution_count": 2,
   "metadata": {
    "ExecuteTime": {
     "end_time": "2021-03-02T21:05:03.614066Z",
     "start_time": "2021-03-02T21:05:03.611467Z"
    },
    "scrolled": true
   },
   "outputs": [],
   "source": [
    "#!python -m pip --version"
   ]
  },
  {
   "cell_type": "code",
   "execution_count": 3,
   "metadata": {
    "ExecuteTime": {
     "end_time": "2021-03-02T21:05:03.618988Z",
     "start_time": "2021-03-02T21:05:03.616598Z"
    }
   },
   "outputs": [],
   "source": [
    "# pip install welly==0.3.0"
   ]
  },
  {
   "cell_type": "code",
   "execution_count": 4,
   "metadata": {
    "ExecuteTime": {
     "end_time": "2021-03-02T21:05:04.934339Z",
     "start_time": "2021-03-02T21:05:03.620945Z"
    }
   },
   "outputs": [],
   "source": [
    "import welly\n",
    "from welly import well\n",
    "import pandas as pd\n",
    "import lasio\n",
    "import numpy as np\n",
    "import matplotlib.pyplot as plt"
   ]
  },
  {
   "cell_type": "code",
   "execution_count": null,
   "metadata": {},
   "outputs": [],
   "source": []
  },
  {
   "cell_type": "code",
   "execution_count": null,
   "metadata": {},
   "outputs": [],
   "source": []
  },
  {
   "cell_type": "markdown",
   "metadata": {
    "ExecuteTime": {
     "end_time": "2021-03-02T20:52:18.756646Z",
     "start_time": "2021-03-02T20:52:18.753194Z"
    }
   },
   "source": [
    "<font size =\"7\">WORK IN PROGRESS</f>"
   ]
  },
  {
   "cell_type": "code",
   "execution_count": null,
   "metadata": {},
   "outputs": [],
   "source": []
  },
  {
   "cell_type": "code",
   "execution_count": null,
   "metadata": {},
   "outputs": [],
   "source": []
  },
  {
   "cell_type": "code",
   "execution_count": null,
   "metadata": {},
   "outputs": [],
   "source": []
  },
  {
   "cell_type": "markdown",
   "metadata": {},
   "source": [
    "<b>References</b>\n",
    "\n",
    "https://en.wikipedia.org/wiki/Synthetic_seismogram\n",
    "\n",
    "https://www.glossary.oilfield.slb.com/en/terms/s/synthetic_seismogram\n",
    "\n",
    "https://pypi.org/project/welly/0.3.0/ (for welly details)"
   ]
  },
  {
   "cell_type": "code",
   "execution_count": null,
   "metadata": {},
   "outputs": [],
   "source": []
  }
 ],
 "metadata": {
  "kernelspec": {
   "display_name": "learn-env",
   "language": "python",
   "name": "learn-env"
  },
  "language_info": {
   "codemirror_mode": {
    "name": "ipython",
    "version": 3
   },
   "file_extension": ".py",
   "mimetype": "text/x-python",
   "name": "python",
   "nbconvert_exporter": "python",
   "pygments_lexer": "ipython3",
   "version": "3.6.9"
  },
  "toc": {
   "base_numbering": 1,
   "nav_menu": {},
   "number_sections": true,
   "sideBar": true,
   "skip_h1_title": false,
   "title_cell": "Table of Contents",
   "title_sidebar": "Contents",
   "toc_cell": false,
   "toc_position": {},
   "toc_section_display": true,
   "toc_window_display": false
  },
  "varInspector": {
   "cols": {
    "lenName": 16,
    "lenType": 16,
    "lenVar": 40
   },
   "kernels_config": {
    "python": {
     "delete_cmd_postfix": "",
     "delete_cmd_prefix": "del ",
     "library": "var_list.py",
     "varRefreshCmd": "print(var_dic_list())"
    },
    "r": {
     "delete_cmd_postfix": ") ",
     "delete_cmd_prefix": "rm(",
     "library": "var_list.r",
     "varRefreshCmd": "cat(var_dic_list()) "
    }
   },
   "types_to_exclude": [
    "module",
    "function",
    "builtin_function_or_method",
    "instance",
    "_Feature"
   ],
   "window_display": false
  }
 },
 "nbformat": 4,
 "nbformat_minor": 4
}
