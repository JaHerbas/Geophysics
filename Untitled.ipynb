{
 "cells": [
  {
   "cell_type": "code",
   "execution_count": 1,
   "metadata": {
    "ExecuteTime": {
     "end_time": "2021-01-28T22:18:47.031061Z",
     "start_time": "2021-01-28T22:18:46.847774Z"
    }
   },
   "outputs": [],
   "source": [
    "import requests as rq\n",
    "from bs4 import BeautifulSoup\n",
    "import os"
   ]
  },
  {
   "cell_type": "code",
   "execution_count": 2,
   "metadata": {
    "ExecuteTime": {
     "end_time": "2021-01-28T22:18:47.947891Z",
     "start_time": "2021-01-28T22:18:47.033024Z"
    }
   },
   "outputs": [
    {
     "name": "stdout",
     "output_type": "stream",
     "text": [
      "https://exp.cdn-hotels.com/hotels/1000000/560000/558400/558353/70125e79_z.jpg?impolicy=fcrop&w=1000&h=666&q=high\n",
      "https://exp.cdn-hotels.com/hotels/1000000/560000/558400/558353/f8d0caf5_z.jpg?impolicy=fcrop&w=1000&h=666&q=high\n",
      "https://exp.cdn-hotels.com/hotels/1000000/560000/558400/558353/243f09c7_z.jpg?impolicy=fcrop&w=1000&h=666&q=high\n",
      "https://exp.cdn-hotels.com/hotels/1000000/560000/558400/558353/a34b5fdf_z.jpg?impolicy=fcrop&w=1000&h=666&q=high\n",
      "https://exp.cdn-hotels.com/hotels/1000000/560000/558400/558353/f8d0caf5_z.jpg?impolicy=fcrop&w=1000&h=666&q=high\n",
      "https://exp.cdn-hotels.com/hotels/1000000/560000/558400/558353/70125e79_z.jpg?impolicy=fcrop&w=1000&h=666&q=high\n",
      "https://exp.cdn-hotels.com/hotels/1000000/560000/558400/558353/f8d0caf5_z.jpg?impolicy=fcrop&w=1000&h=666&q=high\n",
      "https://exp.cdn-hotels.com/hotels/1000000/560000/558400/558353/243f09c7_z.jpg?impolicy=fcrop&w=1000&h=666&q=high\n",
      "https://exp.cdn-hotels.com/hotels/1000000/560000/558400/558353/a34b5fdf_z.jpg?impolicy=fcrop&w=1000&h=666&q=high\n",
      "https://exp.cdn-hotels.com/hotels/1000000/560000/558400/558353/f8d0caf5_z.jpg?impolicy=fcrop&w=1000&h=666&q=high\n",
      "https://exp.cdn-hotels.com/hotels/1000000/560000/558400/558353/f8d0caf5_z.jpg?impolicy=fcrop&w=160&h=160&q=high\n",
      "https://exp.cdn-hotels.com/hotels/1000000/560000/558400/558353/f8d0caf5_z.jpg?impolicy=fcrop&w=160&h=160&q=high\n",
      "https://exp.cdn-hotels.com/hotels/1000000/560000/558400/558353/243f09c7_z.jpg?impolicy=fcrop&w=160&h=160&q=high\n",
      "https://exp.cdn-hotels.com/hotels/1000000/560000/558400/558353/243f09c7_z.jpg?impolicy=fcrop&w=160&h=160&q=high\n",
      "https://exp.cdn-hotels.com/hotels/1000000/560000/558400/558353/a34b5fdf_z.jpg?impolicy=fcrop&w=160&h=160&q=high\n",
      "https://exp.cdn-hotels.com/hotels/1000000/560000/558400/558353/a34b5fdf_z.jpg?impolicy=fcrop&w=160&h=160&q=high\n",
      "https://exp.cdn-hotels.com/hotels/1000000/560000/558400/558353/aa8c4fc0_z.jpg?impolicy=fcrop&w=160&h=160&q=high\n",
      "https://exp.cdn-hotels.com/hotels/1000000/560000/558400/558353/aa8c4fc0_z.jpg?impolicy=fcrop&w=160&h=160&q=high\n",
      "https://exp.cdn-hotels.com/hotels/1000000/560000/558400/558353/00f74ba7_z.jpg?impolicy=fcrop&w=160&h=160&q=high\n",
      "https://exp.cdn-hotels.com/hotels/1000000/560000/558400/558353/00f74ba7_z.jpg?impolicy=fcrop&w=160&h=160&q=high\n",
      "https://exp.cdn-hotels.com/hotels/1000000/560000/558400/558353/76c8f94c_z.jpg?impolicy=fcrop&w=160&h=160&q=high\n",
      "https://exp.cdn-hotels.com/hotels/1000000/560000/558400/558353/76c8f94c_z.jpg?impolicy=fcrop&w=160&h=160&q=high\n",
      "https://exp.cdn-hotels.com/hotels/1000000/560000/558400/558353/45187afb_z.jpg?impolicy=fcrop&w=160&h=160&q=high\n",
      "https://exp.cdn-hotels.com/hotels/1000000/560000/558400/558353/45187afb_z.jpg?impolicy=fcrop&w=160&h=160&q=high\n",
      "https://exp.cdn-hotels.com/hotels/1000000/560000/558400/558353/aa2fba5b_z.jpg?impolicy=fcrop&w=160&h=160&q=high\n",
      "https://exp.cdn-hotels.com/hotels/1000000/560000/558400/558353/aa2fba5b_z.jpg?impolicy=fcrop&w=160&h=160&q=high\n",
      "https://exp.cdn-hotels.com/hotels/1000000/560000/558400/558353/b45c7f12_z.jpg?impolicy=fcrop&w=160&h=160&q=high\n",
      "https://exp.cdn-hotels.com/hotels/1000000/560000/558400/558353/b45c7f12_z.jpg?impolicy=fcrop&w=160&h=160&q=high\n",
      "https://exp.cdn-hotels.com/hotels/1000000/560000/558400/558353/d94a6b2e_z.jpg?impolicy=fcrop&w=160&h=160&q=high\n",
      "https://exp.cdn-hotels.com/hotels/1000000/560000/558400/558353/d94a6b2e_z.jpg?impolicy=fcrop&w=160&h=160&q=high\n",
      "https://exp.cdn-hotels.com/hotels/1000000/560000/558400/558353/3cf6c2c1_z.jpg?impolicy=fcrop&w=160&h=160&q=high\n",
      "https://exp.cdn-hotels.com/hotels/1000000/560000/558400/558353/3cf6c2c1_z.jpg?impolicy=fcrop&w=160&h=160&q=high\n",
      "https://exp.cdn-hotels.com/hotels/1000000/560000/558400/558353/8505baf6_z.jpg?impolicy=fcrop&w=160&h=160&q=high\n",
      "https://exp.cdn-hotels.com/hotels/1000000/560000/558400/558353/8505baf6_z.jpg?impolicy=fcrop&w=160&h=160&q=high\n",
      "https://exp.cdn-hotels.com/hotels/1000000/560000/558400/558353/ad28df66_z.jpg?impolicy=fcrop&w=160&h=160&q=high\n",
      "https://exp.cdn-hotels.com/hotels/1000000/560000/558400/558353/ad28df66_z.jpg?impolicy=fcrop&w=160&h=160&q=high\n",
      "https://exp.cdn-hotels.com/hotels/1000000/560000/558400/558353/8e3dc3a1_z.jpg?impolicy=fcrop&w=160&h=160&q=high\n",
      "https://exp.cdn-hotels.com/hotels/1000000/560000/558400/558353/8e3dc3a1_z.jpg?impolicy=fcrop&w=160&h=160&q=high\n",
      "https://exp.cdn-hotels.com/hotels/1000000/560000/558400/558353/d39f1f8f_z.jpg?impolicy=fcrop&w=160&h=160&q=high\n",
      "https://exp.cdn-hotels.com/hotels/1000000/560000/558400/558353/d39f1f8f_z.jpg?impolicy=fcrop&w=160&h=160&q=high\n",
      "https://exp.cdn-hotels.com/hotels/1000000/560000/558400/558353/ad1d76f5_z.jpg?impolicy=fcrop&w=160&h=160&q=high\n",
      "https://exp.cdn-hotels.com/hotels/1000000/560000/558400/558353/ad1d76f5_z.jpg?impolicy=fcrop&w=160&h=160&q=high\n"
     ]
    }
   ],
   "source": [
    "url = 'https://uk.hotels.com/ho177101/?q-check-out=2020-04-18&FPQ=3&q-check-in=2020-04-17&WOE=6&WOD=5&q-room-0-children=0&pa=1&tab=description&JHR=2&q-room-0-adults=2&YGF=2&MGT=1&ZSX=0&SYE=3#:WO:wo6'\n",
    "\n",
    "r2 = rq.get(url)\n",
    "soup2 = BeautifulSoup(r2.text, \"html.parser\")\n",
    "\n",
    "picture_links = []\n",
    "\n",
    "x = soup2.select('img[src^=\"https://exp.cdn-hotels.com/hotels/1000000/560000/558400/558353\"]') \n",
    "\n",
    "for img in x:\n",
    "    picture_links.append(img['src'])\n",
    "    \n",
    "for l in picture_links:\n",
    "    print(l)"
   ]
  },
  {
   "cell_type": "code",
   "execution_count": 16,
   "metadata": {
    "ExecuteTime": {
     "end_time": "2021-01-28T23:04:21.936217Z",
     "start_time": "2021-01-28T23:04:21.932751Z"
    }
   },
   "outputs": [
    {
     "data": {
      "text/plain": [
       "42"
      ]
     },
     "execution_count": 16,
     "metadata": {},
     "output_type": "execute_result"
    }
   ],
   "source": [
    "len(picture_links)"
   ]
  },
  {
   "cell_type": "code",
   "execution_count": 15,
   "metadata": {
    "ExecuteTime": {
     "end_time": "2021-01-28T23:04:03.301107Z",
     "start_time": "2021-01-28T23:04:03.296165Z"
    }
   },
   "outputs": [
    {
     "data": {
      "text/plain": [
       "20"
      ]
     },
     "execution_count": 15,
     "metadata": {},
     "output_type": "execute_result"
    }
   ],
   "source": [
    "picture_links_filtered = list(dict.fromkeys(picture_links))\n",
    "len(picture_links_filtered)"
   ]
  },
  {
   "cell_type": "code",
   "execution_count": 14,
   "metadata": {
    "ExecuteTime": {
     "end_time": "2021-01-28T23:03:17.087194Z",
     "start_time": "2021-01-28T23:03:09.912219Z"
    }
   },
   "outputs": [],
   "source": [
    "os.mkdir('test_photos_2')\n",
    "i = 1\n",
    "\n",
    "for index, img_link in enumerate(picture_links_filtered):\n",
    "    if  i <= 30:\n",
    "        img_data = rq.get(img_link).content\n",
    "        with open(\"test_photos_2/\"+str(i+1)+'.jpg', 'wb+') as f:\n",
    "            f.write(img_data)\n",
    "        i += 1\n",
    "    else:\n",
    "        f.close()\n",
    "        break"
   ]
  },
  {
   "cell_type": "code",
   "execution_count": null,
   "metadata": {},
   "outputs": [],
   "source": []
  }
 ],
 "metadata": {
  "kernelspec": {
   "display_name": "learn-env",
   "language": "python",
   "name": "learn-env"
  },
  "language_info": {
   "codemirror_mode": {
    "name": "ipython",
    "version": 3
   },
   "file_extension": ".py",
   "mimetype": "text/x-python",
   "name": "python",
   "nbconvert_exporter": "python",
   "pygments_lexer": "ipython3",
   "version": "3.6.9"
  },
  "toc": {
   "base_numbering": 1,
   "nav_menu": {},
   "number_sections": true,
   "sideBar": true,
   "skip_h1_title": false,
   "title_cell": "Table of Contents",
   "title_sidebar": "Contents",
   "toc_cell": false,
   "toc_position": {},
   "toc_section_display": true,
   "toc_window_display": false
  },
  "varInspector": {
   "cols": {
    "lenName": 16,
    "lenType": 16,
    "lenVar": 40
   },
   "kernels_config": {
    "python": {
     "delete_cmd_postfix": "",
     "delete_cmd_prefix": "del ",
     "library": "var_list.py",
     "varRefreshCmd": "print(var_dic_list())"
    },
    "r": {
     "delete_cmd_postfix": ") ",
     "delete_cmd_prefix": "rm(",
     "library": "var_list.r",
     "varRefreshCmd": "cat(var_dic_list()) "
    }
   },
   "types_to_exclude": [
    "module",
    "function",
    "builtin_function_or_method",
    "instance",
    "_Feature"
   ],
   "window_display": false
  }
 },
 "nbformat": 4,
 "nbformat_minor": 4
}
