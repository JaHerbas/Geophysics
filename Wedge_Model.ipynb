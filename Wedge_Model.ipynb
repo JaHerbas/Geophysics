{
 "cells": [
  {
   "cell_type": "markdown",
   "metadata": {
    "ExecuteTime": {
     "end_time": "2020-12-07T22:06:25.324878Z",
     "start_time": "2020-12-07T22:06:25.321462Z"
    }
   },
   "source": [
    "<font size='5'><b>WEDGE MODELS</b><font>"
   ]
  },
  {
   "cell_type": "markdown",
   "metadata": {},
   "source": [
    "This workflow has been taking from the Agile website and does is no part belong to me. I followed the link ass they are offering users to do so and I just added a few extra bits and pieces to make things look different"
   ]
  },
  {
   "cell_type": "code",
   "execution_count": 1,
   "metadata": {
    "ExecuteTime": {
     "end_time": "2020-12-07T20:41:02.883829Z",
     "start_time": "2020-12-07T20:41:01.884188Z"
    }
   },
   "outputs": [],
   "source": [
    "import matplotlib.pyplot as plt\n",
    "import numpy as np\n",
    "%matplotlib inline"
   ]
  },
  {
   "cell_type": "markdown",
   "metadata": {},
   "source": [
    "# Making the earth Model"
   ]
  },
  {
   "cell_type": "markdown",
   "metadata": {},
   "source": [
    "The first step for the wedge model generation is to create the earth model. For this I'm going to use a numpy function to create matrices:<br> \n",
    "\n",
    "np.tri(m, n, k)<br>\n",
    "\n",
    "This will end up producing a box corresponding to the matrix m x n.\n",
    "\n",
    "The paremeters that I will chose will be a 45m max thickness by 100ms deep<br>\n",
    "\n",
    "To create the wedge I will use the following:<br>\n",
    "\n",
    "model[:depth//3,:] = 0"
   ]
  },
  {
   "cell_type": "code",
   "execution_count": 68,
   "metadata": {
    "ExecuteTime": {
     "end_time": "2020-12-07T22:43:42.622525Z",
     "start_time": "2020-12-07T22:43:42.619309Z"
    }
   },
   "outputs": [],
   "source": [
    "length, depth = 45, 100\n",
    "model = 1 + np.tri(depth, length, -depth//3, dtype=int)\n",
    "model[:depth//3,:] = 0"
   ]
  },
  {
   "cell_type": "markdown",
   "metadata": {},
   "source": [
    "Now with the earth model, I will just proceed to plot it:"
   ]
  },
  {
   "cell_type": "code",
   "execution_count": 69,
   "metadata": {
    "ExecuteTime": {
     "end_time": "2020-12-07T22:43:43.154120Z",
     "start_time": "2020-12-07T22:43:43.011344Z"
    }
   },
   "outputs": [
    {
     "data": {
      "image/png": "[encoded data removed]",
      "text/plain": [
       "<Figure size 432x288 with 1 Axes>"
      ]
     },
     "metadata": {
      "needs_background": "light"
     },
     "output_type": "display_data"
    }
   ],
   "source": [
    "plt.imshow(model, cmap='Dark2', aspect=0.2)\n",
    "plt.title('Earth Model')\n",
    "plt.xlabel('Thickness (m)')\n",
    "plt.ylabel('Time (ms)')\n",
    "plt.show()"
   ]
  },
  {
   "cell_type": "code",
   "execution_count": 4,
   "metadata": {
    "ExecuteTime": {
     "end_time": "2020-12-07T20:41:03.077936Z",
     "start_time": "2020-12-07T20:41:03.073663Z"
    }
   },
   "outputs": [
    {
     "data": {
      "text/plain": [
       "array([2, 2, 2, 2, 2, 2, 2, 2, 2, 2, 2, 2, 2, 2, 2, 2, 2, 2, 2, 2, 2, 2,\n",
       "       2, 2, 2, 2, 2, 1, 1, 1, 1, 1, 1, 1, 1, 1, 1, 1, 1, 1])"
      ]
     },
     "execution_count": 4,
     "metadata": {},
     "output_type": "execute_result"
    }
   ],
   "source": [
    "model[60]"
   ]
  },
  {
   "cell_type": "code",
   "execution_count": 48,
   "metadata": {
    "ExecuteTime": {
     "end_time": "2020-12-07T22:20:46.057448Z",
     "start_time": "2020-12-07T22:20:46.054603Z"
    }
   },
   "outputs": [],
   "source": [
    "# Vp & RHOB\n",
    "rocks = np.array([[2056, 2080],\n",
    "                 [1850, 1900],\n",
    "                 [2343, 2150]])"
   ]
  },
  {
   "cell_type": "code",
   "execution_count": 49,
   "metadata": {
    "ExecuteTime": {
     "end_time": "2020-12-07T22:20:46.858763Z",
     "start_time": "2020-12-07T22:20:46.856129Z"
    }
   },
   "outputs": [],
   "source": [
    "earth = rocks[model]"
   ]
  },
  {
   "cell_type": "code",
   "execution_count": 50,
   "metadata": {
    "ExecuteTime": {
     "end_time": "2020-12-07T22:20:47.389150Z",
     "start_time": "2020-12-07T22:20:47.360111Z"
    }
   },
   "outputs": [],
   "source": [
    "imp = np.apply_along_axis(np.product, -1, earth)"
   ]
  },
  {
   "cell_type": "code",
   "execution_count": 51,
   "metadata": {
    "ExecuteTime": {
     "end_time": "2020-12-07T22:20:47.945517Z",
     "start_time": "2020-12-07T22:20:47.808322Z"
    }
   },
   "outputs": [
    {
     "data": {
      "image/png": "[encoded data removed]",
      "text/plain": [
       "<Figure size 432x288 with 1 Axes>"
      ]
     },
     "metadata": {
      "needs_background": "light"
     },
     "output_type": "display_data"
    }
   ],
   "source": [
    "rc = (imp[1:, :] - imp[:-1,:]) / (imp[1:,:] + imp[:-1, :])\n",
    "\n",
    "plt.imshow(rc, cmap='Greys', aspect=0.2)\n",
    "plt.show()"
   ]
  },
  {
   "cell_type": "code",
   "execution_count": 52,
   "metadata": {
    "ExecuteTime": {
     "end_time": "2020-12-07T22:20:49.930066Z",
     "start_time": "2020-12-07T22:20:49.926263Z"
    }
   },
   "outputs": [
    {
     "name": "stderr",
     "output_type": "stream",
     "text": [
      "/Users/javierherbas/opt/anaconda3/envs/learn-env/lib/python3.6/site-packages/bruges/filters/wavelets.py:204: FutureWarning: In future releases, return_t will be True by default.\n",
      "  warnings.warn(\"In future releases, return_t will be True by default.\", FutureWarning)\n"
     ]
    }
   ],
   "source": [
    "import bruges\n",
    "\n",
    "w = bruges.filters.ricker(duration=0.100, dt=0.001, f=40)"
   ]
  },
  {
   "cell_type": "code",
   "execution_count": 53,
   "metadata": {
    "ExecuteTime": {
     "end_time": "2020-12-07T22:20:50.601280Z",
     "start_time": "2020-12-07T22:20:50.469942Z"
    }
   },
   "outputs": [
    {
     "data": {
      "image/png": "[encoded data removed]",
      "text/plain": [
       "<Figure size 432x288 with 1 Axes>"
      ]
     },
     "metadata": {
      "needs_background": "light"
     },
     "output_type": "display_data"
    }
   ],
   "source": [
    "plt.plot(w)\n",
    "plt.show()"
   ]
  },
  {
   "cell_type": "code",
   "execution_count": 54,
   "metadata": {
    "ExecuteTime": {
     "end_time": "2020-12-07T22:20:52.326919Z",
     "start_time": "2020-12-07T22:20:52.170725Z"
    }
   },
   "outputs": [
    {
     "data": {
      "image/png": "[encoded data removed]",
      "text/plain": [
       "<Figure size 432x288 with 1 Axes>"
      ]
     },
     "metadata": {
      "needs_background": "light"
     },
     "output_type": "display_data"
    }
   ],
   "source": [
    "synthetic = np.apply_along_axis(lambda t: np.convolve(t, w, mode='same'), axis=0, arr=rc)\n",
    "\n",
    "plt.imshow(synthetic, cmap='seismic', aspect=0.3)\n",
    "plt.show()"
   ]
  },
  {
   "cell_type": "code",
   "execution_count": null,
   "metadata": {},
   "outputs": [],
   "source": []
  }
 ],
 "metadata": {
  "kernelspec": {
   "display_name": "learn-env",
   "language": "python",
   "name": "learn-env"
  },
  "language_info": {
   "codemirror_mode": {
    "name": "ipython",
    "version": 3
   },
   "file_extension": ".py",
   "mimetype": "text/x-python",
   "name": "python",
   "nbconvert_exporter": "python",
   "pygments_lexer": "ipython3",
   "version": "3.6.9"
  },
  "toc": {
   "base_numbering": 1,
   "nav_menu": {},
   "number_sections": true,
   "sideBar": true,
   "skip_h1_title": false,
   "title_cell": "Table of Contents",
   "title_sidebar": "Contents",
   "toc_cell": false,
   "toc_position": {},
   "toc_section_display": true,
   "toc_window_display": false
  },
  "varInspector": {
   "cols": {
    "lenName": 16,
    "lenType": 16,
    "lenVar": 40
   },
   "kernels_config": {
    "python": {
     "delete_cmd_postfix": "",
     "delete_cmd_prefix": "del ",
     "library": "var_list.py",
     "varRefreshCmd": "print(var_dic_list())"
    },
    "r": {
     "delete_cmd_postfix": ") ",
     "delete_cmd_prefix": "rm(",
     "library": "var_list.r",
     "varRefreshCmd": "cat(var_dic_list()) "
    }
   },
   "types_to_exclude": [
    "module",
    "function",
    "builtin_function_or_method",
    "instance",
    "_Feature"
   ],
   "window_display": false
  }
 },
 "nbformat": 4,
 "nbformat_minor": 4
}
